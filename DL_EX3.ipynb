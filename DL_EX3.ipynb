{
  "cells": [
    {
      "cell_type": "markdown",
      "id": "e40efe29-aadf-4ad5-8624-6dc5840877c4",
      "metadata": {
        "id": "e40efe29-aadf-4ad5-8624-6dc5840877c4"
      },
      "source": [
        "Pradeep E\n",
        "\n",
        "212223230149\n",
        "\n",
        "B.Tech - AI & DS"
      ]
    },
    {
      "cell_type": "code",
      "execution_count": null,
      "id": "463b87c5-def5-4258-9eec-f3ad34737439",
      "metadata": {
        "id": "463b87c5-def5-4258-9eec-f3ad34737439"
      },
      "outputs": [],
      "source": [
        "import torch\n",
        "import torch.nn as nn\n",
        "import torch.nn.functional as F\n",
        "from torch.utils.data import DataLoader\n",
        "from torchvision import datasets, transforms\n",
        "\n",
        "import numpy as np\n",
        "import pandas as pd\n",
        "from sklearn.metrics import confusion_matrix\n",
        "import matplotlib.pyplot as plt\n",
        "%matplotlib inline"
      ]
    },
    {
      "cell_type": "code",
      "execution_count": null,
      "id": "9437e872-c5a0-41bd-9074-95a275b41d0c",
      "metadata": {
        "id": "9437e872-c5a0-41bd-9074-95a275b41d0c"
      },
      "outputs": [],
      "source": [
        "# MNIST Image ____> Tensor"
      ]
    },
    {
      "cell_type": "code",
      "execution_count": null,
      "id": "b886ca32-4643-446e-a0d1-32c6dce4a154",
      "metadata": {
        "id": "b886ca32-4643-446e-a0d1-32c6dce4a154"
      },
      "outputs": [],
      "source": [
        "transform = transforms.ToTensor()"
      ]
    },
    {
      "cell_type": "code",
      "execution_count": null,
      "id": "e10eee49-1f78-4d49-a449-469526f66210",
      "metadata": {
        "id": "e10eee49-1f78-4d49-a449-469526f66210",
        "outputId": "d06e0488-2acd-4ad4-ef38-aa509c98a95d"
      },
      "outputs": [
        {
          "data": {
            "text/plain": [
              "Dataset MNIST\n",
              "    Number of datapoints: 60000\n",
              "    Root location: ../Data\n",
              "    Split: Train\n",
              "    StandardTransform\n",
              "Transform: ToTensor()"
            ]
          },
          "execution_count": 4,
          "metadata": {},
          "output_type": "execute_result"
        }
      ],
      "source": [
        "train_data = datasets.MNIST(root='../Data', train=True, download=True, transform=transform)\n",
        "train_data"
      ]
    },
    {
      "cell_type": "code",
      "execution_count": null,
      "id": "dce1a57c-2f9f-4a99-8a5b-0bc7ba066eac",
      "metadata": {
        "id": "dce1a57c-2f9f-4a99-8a5b-0bc7ba066eac",
        "outputId": "c6edd8af-d8c9-411b-97db-f92f2939ee61"
      },
      "outputs": [
        {
          "data": {
            "text/plain": [
              "Dataset MNIST\n",
              "    Number of datapoints: 10000\n",
              "    Root location: ../Data\n",
              "    Split: Test\n",
              "    StandardTransform\n",
              "Transform: ToTensor()"
            ]
          },
          "execution_count": 5,
          "metadata": {},
          "output_type": "execute_result"
        }
      ],
      "source": [
        "test_data = datasets.MNIST(root='../Data', train=False, download=True, transform=transform)\n",
        "test_data"
      ]
    },
    {
      "cell_type": "code",
      "execution_count": null,
      "id": "55a75aef-23c5-4daf-8875-bffeda5f9e3d",
      "metadata": {
        "id": "55a75aef-23c5-4daf-8875-bffeda5f9e3d",
        "outputId": "f2150ed3-39c0-4817-d29d-9f908395e68d"
      },
      "outputs": [
        {
          "data": {
            "text/plain": [
              "torchvision.datasets.mnist.MNIST"
            ]
          },
          "execution_count": 6,
          "metadata": {},
          "output_type": "execute_result"
        }
      ],
      "source": [
        "type(train_data)"
      ]
    },
    {
      "cell_type": "code",
      "execution_count": null,
      "id": "402b8bb3-d4c1-4e38-b51f-edd0f73be1a5",
      "metadata": {
        "id": "402b8bb3-d4c1-4e38-b51f-edd0f73be1a5",
        "outputId": "1b08efdc-6ee8-4a50-bc42-396544dc4fd7"
      },
      "outputs": [
        {
          "data": {
            "text/plain": [
              "(tensor([[[0.0000, 0.0000, 0.0000, 0.0000, 0.0000, 0.0000, 0.0000, 0.0000,\n",
              "           0.0000, 0.0000, 0.0000, 0.0000, 0.0000, 0.0000, 0.0000, 0.0000,\n",
              "           0.0000, 0.0000, 0.0000, 0.0000, 0.0000, 0.0000, 0.0000, 0.0000,\n",
              "           0.0000, 0.0000, 0.0000, 0.0000],\n",
              "          [0.0000, 0.0000, 0.0000, 0.0000, 0.0000, 0.0000, 0.0000, 0.0000,\n",
              "           0.0000, 0.0000, 0.0000, 0.0000, 0.0000, 0.0000, 0.0000, 0.0000,\n",
              "           0.0000, 0.0000, 0.0000, 0.0000, 0.0000, 0.0000, 0.0000, 0.0000,\n",
              "           0.0000, 0.0000, 0.0000, 0.0000],\n",
              "          [0.0000, 0.0000, 0.0000, 0.0000, 0.0000, 0.0000, 0.0000, 0.0000,\n",
              "           0.0000, 0.0000, 0.0000, 0.0000, 0.0000, 0.0000, 0.0000, 0.0000,\n",
              "           0.0000, 0.0000, 0.0000, 0.0000, 0.0000, 0.0000, 0.0000, 0.0000,\n",
              "           0.0000, 0.0000, 0.0000, 0.0000],\n",
              "          [0.0000, 0.0000, 0.0000, 0.0000, 0.0000, 0.0000, 0.0000, 0.0000,\n",
              "           0.0000, 0.0000, 0.0000, 0.0000, 0.0000, 0.0000, 0.0000, 0.0000,\n",
              "           0.0000, 0.0000, 0.0000, 0.0000, 0.0000, 0.0000, 0.0000, 0.0000,\n",
              "           0.0000, 0.0000, 0.0000, 0.0000],\n",
              "          [0.0000, 0.0000, 0.0000, 0.0000, 0.0000, 0.0000, 0.0000, 0.0000,\n",
              "           0.0000, 0.0000, 0.0000, 0.0000, 0.0000, 0.0000, 0.0000, 0.0000,\n",
              "           0.0000, 0.0000, 0.0000, 0.0000, 0.0000, 0.0000, 0.0000, 0.0000,\n",
              "           0.0000, 0.0000, 0.0000, 0.0000],\n",
              "          [0.0000, 0.0000, 0.0000, 0.0000, 0.0000, 0.0000, 0.0000, 0.0000,\n",
              "           0.0000, 0.0000, 0.0000, 0.0000, 0.0118, 0.0706, 0.0706, 0.0706,\n",
              "           0.4941, 0.5333, 0.6863, 0.1020, 0.6510, 1.0000, 0.9686, 0.4980,\n",
              "           0.0000, 0.0000, 0.0000, 0.0000],\n",
              "          [0.0000, 0.0000, 0.0000, 0.0000, 0.0000, 0.0000, 0.0000, 0.0000,\n",
              "           0.1176, 0.1412, 0.3686, 0.6039, 0.6667, 0.9922, 0.9922, 0.9922,\n",
              "           0.9922, 0.9922, 0.8824, 0.6745, 0.9922, 0.9490, 0.7647, 0.2510,\n",
              "           0.0000, 0.0000, 0.0000, 0.0000],\n",
              "          [0.0000, 0.0000, 0.0000, 0.0000, 0.0000, 0.0000, 0.0000, 0.1922,\n",
              "           0.9333, 0.9922, 0.9922, 0.9922, 0.9922, 0.9922, 0.9922, 0.9922,\n",
              "           0.9922, 0.9843, 0.3647, 0.3216, 0.3216, 0.2196, 0.1529, 0.0000,\n",
              "           0.0000, 0.0000, 0.0000, 0.0000],\n",
              "          [0.0000, 0.0000, 0.0000, 0.0000, 0.0000, 0.0000, 0.0000, 0.0706,\n",
              "           0.8588, 0.9922, 0.9922, 0.9922, 0.9922, 0.9922, 0.7765, 0.7137,\n",
              "           0.9686, 0.9451, 0.0000, 0.0000, 0.0000, 0.0000, 0.0000, 0.0000,\n",
              "           0.0000, 0.0000, 0.0000, 0.0000],\n",
              "          [0.0000, 0.0000, 0.0000, 0.0000, 0.0000, 0.0000, 0.0000, 0.0000,\n",
              "           0.3137, 0.6118, 0.4196, 0.9922, 0.9922, 0.8039, 0.0431, 0.0000,\n",
              "           0.1686, 0.6039, 0.0000, 0.0000, 0.0000, 0.0000, 0.0000, 0.0000,\n",
              "           0.0000, 0.0000, 0.0000, 0.0000],\n",
              "          [0.0000, 0.0000, 0.0000, 0.0000, 0.0000, 0.0000, 0.0000, 0.0000,\n",
              "           0.0000, 0.0549, 0.0039, 0.6039, 0.9922, 0.3529, 0.0000, 0.0000,\n",
              "           0.0000, 0.0000, 0.0000, 0.0000, 0.0000, 0.0000, 0.0000, 0.0000,\n",
              "           0.0000, 0.0000, 0.0000, 0.0000],\n",
              "          [0.0000, 0.0000, 0.0000, 0.0000, 0.0000, 0.0000, 0.0000, 0.0000,\n",
              "           0.0000, 0.0000, 0.0000, 0.5451, 0.9922, 0.7451, 0.0078, 0.0000,\n",
              "           0.0000, 0.0000, 0.0000, 0.0000, 0.0000, 0.0000, 0.0000, 0.0000,\n",
              "           0.0000, 0.0000, 0.0000, 0.0000],\n",
              "          [0.0000, 0.0000, 0.0000, 0.0000, 0.0000, 0.0000, 0.0000, 0.0000,\n",
              "           0.0000, 0.0000, 0.0000, 0.0431, 0.7451, 0.9922, 0.2745, 0.0000,\n",
              "           0.0000, 0.0000, 0.0000, 0.0000, 0.0000, 0.0000, 0.0000, 0.0000,\n",
              "           0.0000, 0.0000, 0.0000, 0.0000],\n",
              "          [0.0000, 0.0000, 0.0000, 0.0000, 0.0000, 0.0000, 0.0000, 0.0000,\n",
              "           0.0000, 0.0000, 0.0000, 0.0000, 0.1373, 0.9451, 0.8824, 0.6275,\n",
              "           0.4235, 0.0039, 0.0000, 0.0000, 0.0000, 0.0000, 0.0000, 0.0000,\n",
              "           0.0000, 0.0000, 0.0000, 0.0000],\n",
              "          [0.0000, 0.0000, 0.0000, 0.0000, 0.0000, 0.0000, 0.0000, 0.0000,\n",
              "           0.0000, 0.0000, 0.0000, 0.0000, 0.0000, 0.3176, 0.9412, 0.9922,\n",
              "           0.9922, 0.4667, 0.0980, 0.0000, 0.0000, 0.0000, 0.0000, 0.0000,\n",
              "           0.0000, 0.0000, 0.0000, 0.0000],\n",
              "          [0.0000, 0.0000, 0.0000, 0.0000, 0.0000, 0.0000, 0.0000, 0.0000,\n",
              "           0.0000, 0.0000, 0.0000, 0.0000, 0.0000, 0.0000, 0.1765, 0.7294,\n",
              "           0.9922, 0.9922, 0.5882, 0.1059, 0.0000, 0.0000, 0.0000, 0.0000,\n",
              "           0.0000, 0.0000, 0.0000, 0.0000],\n",
              "          [0.0000, 0.0000, 0.0000, 0.0000, 0.0000, 0.0000, 0.0000, 0.0000,\n",
              "           0.0000, 0.0000, 0.0000, 0.0000, 0.0000, 0.0000, 0.0000, 0.0627,\n",
              "           0.3647, 0.9882, 0.9922, 0.7333, 0.0000, 0.0000, 0.0000, 0.0000,\n",
              "           0.0000, 0.0000, 0.0000, 0.0000],\n",
              "          [0.0000, 0.0000, 0.0000, 0.0000, 0.0000, 0.0000, 0.0000, 0.0000,\n",
              "           0.0000, 0.0000, 0.0000, 0.0000, 0.0000, 0.0000, 0.0000, 0.0000,\n",
              "           0.0000, 0.9765, 0.9922, 0.9765, 0.2510, 0.0000, 0.0000, 0.0000,\n",
              "           0.0000, 0.0000, 0.0000, 0.0000],\n",
              "          [0.0000, 0.0000, 0.0000, 0.0000, 0.0000, 0.0000, 0.0000, 0.0000,\n",
              "           0.0000, 0.0000, 0.0000, 0.0000, 0.0000, 0.0000, 0.1804, 0.5098,\n",
              "           0.7176, 0.9922, 0.9922, 0.8118, 0.0078, 0.0000, 0.0000, 0.0000,\n",
              "           0.0000, 0.0000, 0.0000, 0.0000],\n",
              "          [0.0000, 0.0000, 0.0000, 0.0000, 0.0000, 0.0000, 0.0000, 0.0000,\n",
              "           0.0000, 0.0000, 0.0000, 0.0000, 0.1529, 0.5804, 0.8980, 0.9922,\n",
              "           0.9922, 0.9922, 0.9804, 0.7137, 0.0000, 0.0000, 0.0000, 0.0000,\n",
              "           0.0000, 0.0000, 0.0000, 0.0000],\n",
              "          [0.0000, 0.0000, 0.0000, 0.0000, 0.0000, 0.0000, 0.0000, 0.0000,\n",
              "           0.0000, 0.0000, 0.0941, 0.4471, 0.8667, 0.9922, 0.9922, 0.9922,\n",
              "           0.9922, 0.7882, 0.3059, 0.0000, 0.0000, 0.0000, 0.0000, 0.0000,\n",
              "           0.0000, 0.0000, 0.0000, 0.0000],\n",
              "          [0.0000, 0.0000, 0.0000, 0.0000, 0.0000, 0.0000, 0.0000, 0.0000,\n",
              "           0.0902, 0.2588, 0.8353, 0.9922, 0.9922, 0.9922, 0.9922, 0.7765,\n",
              "           0.3176, 0.0078, 0.0000, 0.0000, 0.0000, 0.0000, 0.0000, 0.0000,\n",
              "           0.0000, 0.0000, 0.0000, 0.0000],\n",
              "          [0.0000, 0.0000, 0.0000, 0.0000, 0.0000, 0.0000, 0.0706, 0.6706,\n",
              "           0.8588, 0.9922, 0.9922, 0.9922, 0.9922, 0.7647, 0.3137, 0.0353,\n",
              "           0.0000, 0.0000, 0.0000, 0.0000, 0.0000, 0.0000, 0.0000, 0.0000,\n",
              "           0.0000, 0.0000, 0.0000, 0.0000],\n",
              "          [0.0000, 0.0000, 0.0000, 0.0000, 0.2157, 0.6745, 0.8863, 0.9922,\n",
              "           0.9922, 0.9922, 0.9922, 0.9569, 0.5216, 0.0431, 0.0000, 0.0000,\n",
              "           0.0000, 0.0000, 0.0000, 0.0000, 0.0000, 0.0000, 0.0000, 0.0000,\n",
              "           0.0000, 0.0000, 0.0000, 0.0000],\n",
              "          [0.0000, 0.0000, 0.0000, 0.0000, 0.5333, 0.9922, 0.9922, 0.9922,\n",
              "           0.8314, 0.5294, 0.5176, 0.0627, 0.0000, 0.0000, 0.0000, 0.0000,\n",
              "           0.0000, 0.0000, 0.0000, 0.0000, 0.0000, 0.0000, 0.0000, 0.0000,\n",
              "           0.0000, 0.0000, 0.0000, 0.0000],\n",
              "          [0.0000, 0.0000, 0.0000, 0.0000, 0.0000, 0.0000, 0.0000, 0.0000,\n",
              "           0.0000, 0.0000, 0.0000, 0.0000, 0.0000, 0.0000, 0.0000, 0.0000,\n",
              "           0.0000, 0.0000, 0.0000, 0.0000, 0.0000, 0.0000, 0.0000, 0.0000,\n",
              "           0.0000, 0.0000, 0.0000, 0.0000],\n",
              "          [0.0000, 0.0000, 0.0000, 0.0000, 0.0000, 0.0000, 0.0000, 0.0000,\n",
              "           0.0000, 0.0000, 0.0000, 0.0000, 0.0000, 0.0000, 0.0000, 0.0000,\n",
              "           0.0000, 0.0000, 0.0000, 0.0000, 0.0000, 0.0000, 0.0000, 0.0000,\n",
              "           0.0000, 0.0000, 0.0000, 0.0000],\n",
              "          [0.0000, 0.0000, 0.0000, 0.0000, 0.0000, 0.0000, 0.0000, 0.0000,\n",
              "           0.0000, 0.0000, 0.0000, 0.0000, 0.0000, 0.0000, 0.0000, 0.0000,\n",
              "           0.0000, 0.0000, 0.0000, 0.0000, 0.0000, 0.0000, 0.0000, 0.0000,\n",
              "           0.0000, 0.0000, 0.0000, 0.0000]]]),\n",
              " 5)"
            ]
          },
          "execution_count": 7,
          "metadata": {},
          "output_type": "execute_result"
        }
      ],
      "source": [
        "train_data[0]"
      ]
    },
    {
      "cell_type": "code",
      "execution_count": null,
      "id": "97ec224d-21c9-4c5d-80d3-870c2b429444",
      "metadata": {
        "id": "97ec224d-21c9-4c5d-80d3-870c2b429444",
        "outputId": "4636e22f-726f-48d6-e0be-5c2321387740"
      },
      "outputs": [
        {
          "data": {
            "text/plain": [
              "tuple"
            ]
          },
          "execution_count": 8,
          "metadata": {},
          "output_type": "execute_result"
        }
      ],
      "source": [
        "type(train_data[0])"
      ]
    },
    {
      "cell_type": "code",
      "execution_count": null,
      "id": "0f8405dd-28a1-42fa-8b3a-f7722f6631ea",
      "metadata": {
        "id": "0f8405dd-28a1-42fa-8b3a-f7722f6631ea"
      },
      "outputs": [],
      "source": [
        "image,label = train_data[0]"
      ]
    },
    {
      "cell_type": "code",
      "execution_count": null,
      "id": "3c082600-f2f6-42f4-8d02-47d2451bc2f0",
      "metadata": {
        "id": "3c082600-f2f6-42f4-8d02-47d2451bc2f0",
        "outputId": "3bbdf892-cb55-4a92-c7f9-cb5de0cf6203"
      },
      "outputs": [
        {
          "data": {
            "text/plain": [
              "torch.Size([1, 28, 28])"
            ]
          },
          "execution_count": 10,
          "metadata": {},
          "output_type": "execute_result"
        }
      ],
      "source": [
        "image.shape"
      ]
    },
    {
      "cell_type": "code",
      "execution_count": null,
      "id": "e2751faf-dec1-4990-9518-740e6b5ccf5a",
      "metadata": {
        "id": "e2751faf-dec1-4990-9518-740e6b5ccf5a",
        "outputId": "8b2ea4e5-534b-4164-c768-fe09c5433c9c"
      },
      "outputs": [
        {
          "data": {
            "text/plain": [
              "5"
            ]
          },
          "execution_count": 11,
          "metadata": {},
          "output_type": "execute_result"
        }
      ],
      "source": [
        "label"
      ]
    },
    {
      "cell_type": "code",
      "execution_count": null,
      "id": "d01690bf-d325-4d60-a007-479775d6f4f5",
      "metadata": {
        "id": "d01690bf-d325-4d60-a007-479775d6f4f5",
        "outputId": "8fdbad60-301c-4f11-8913-f81ce8596273"
      },
      "outputs": [
        {
          "data": {
            "image/png": "[encoded data removed]",
            "text/plain": [
              "<Figure size 640x480 with 1 Axes>"
            ]
          },
          "metadata": {},
          "output_type": "display_data"
        }
      ],
      "source": [
        "plt.imshow(image.reshape((28,28)),cmap='gray')\n",
        "plt.show()"
      ]
    },
    {
      "cell_type": "code",
      "execution_count": null,
      "id": "1c4a8f39-f4f8-4475-b628-deb51ad381bf",
      "metadata": {
        "id": "1c4a8f39-f4f8-4475-b628-deb51ad381bf",
        "outputId": "cb9c8302-74c2-4133-a457-560d5d4fc4bc"
      },
      "outputs": [
        {
          "data": {
            "image/png": "[encoded data removed]",
            "text/plain": [
              "<Figure size 640x480 with 1 Axes>"
            ]
          },
          "metadata": {},
          "output_type": "display_data"
        }
      ],
      "source": [
        "plt.imshow(image.reshape((28,28)),cmap='gist_yarg')\n",
        "plt.show()"
      ]
    },
    {
      "cell_type": "markdown",
      "source": [
        "- Pradeep E\n",
        "- 212223230149\n",
        "- B.Tech AI&DS"
      ],
      "metadata": {
        "id": "rapKdWtQ5iOd"
      },
      "id": "rapKdWtQ5iOd"
    },
    {
      "cell_type": "code",
      "execution_count": null,
      "id": "9b847880-981e-400a-b744-33e07b356abf",
      "metadata": {
        "id": "9b847880-981e-400a-b744-33e07b356abf"
      },
      "outputs": [],
      "source": [
        "# load the data with data l__loader__\n",
        "\n",
        "torch.manual_seed(101)  # for consistent results\n",
        "\n",
        "train_loader = DataLoader(train_data, batch_size=100, shuffle=True)\n",
        "\n",
        "test_loader = DataLoader(test_data, batch_size=500, shuffle=False)"
      ]
    },
    {
      "cell_type": "code",
      "execution_count": null,
      "id": "ef48b67a-4461-4f0c-a3fa-8b8cf5a01fcc",
      "metadata": {
        "id": "ef48b67a-4461-4f0c-a3fa-8b8cf5a01fcc"
      },
      "outputs": [],
      "source": [
        "from torchvision.utils import make_grid\n",
        "np.set_printoptions(formatter=dict(int=lambda x: f'{x:4}'))"
      ]
    },
    {
      "cell_type": "code",
      "execution_count": null,
      "id": "2d5468fc-3592-43d1-9edc-0b0c1e998c29",
      "metadata": {
        "id": "2d5468fc-3592-43d1-9edc-0b0c1e998c29"
      },
      "outputs": [],
      "source": [
        "# First Batch\n",
        "for images,labels in train_loader:\n",
        "    break"
      ]
    },
    {
      "cell_type": "code",
      "execution_count": null,
      "id": "89e58425-f87e-44e6-8eba-c03290406a1e",
      "metadata": {
        "id": "89e58425-f87e-44e6-8eba-c03290406a1e",
        "outputId": "ddb9b986-f4c8-4962-8c0e-3ca4aaffa065"
      },
      "outputs": [
        {
          "data": {
            "text/plain": [
              "torch.Size([100, 1, 28, 28])"
            ]
          },
          "execution_count": 17,
          "metadata": {},
          "output_type": "execute_result"
        }
      ],
      "source": [
        "images.shape"
      ]
    },
    {
      "cell_type": "code",
      "execution_count": null,
      "id": "3f42a5e6-9b8b-4d94-8344-70dc1a49783d",
      "metadata": {
        "id": "3f42a5e6-9b8b-4d94-8344-70dc1a49783d",
        "outputId": "8e8ab393-c1c0-4c2b-f302-6bc9029c047f"
      },
      "outputs": [
        {
          "data": {
            "text/plain": [
              "torch.Size([100])"
            ]
          },
          "execution_count": 18,
          "metadata": {},
          "output_type": "execute_result"
        }
      ],
      "source": [
        "labels.shape"
      ]
    },
    {
      "cell_type": "code",
      "execution_count": null,
      "id": "8bd38b4d-d813-4bbf-b570-afb6a8afb6f8",
      "metadata": {
        "id": "8bd38b4d-d813-4bbf-b570-afb6a8afb6f8",
        "outputId": "2481e39f-1d46-4950-d8e4-2bc79bfe1782"
      },
      "outputs": [
        {
          "name": "stdout",
          "output_type": "stream",
          "text": [
            "Labels:  [   7    2    3    5    8    5    3    6    9    9    1    3]\n"
          ]
        }
      ],
      "source": [
        "# Print the first 12 labels\n",
        "print('Labels: ', labels[:12].numpy())"
      ]
    },
    {
      "cell_type": "code",
      "execution_count": null,
      "id": "39d6b35d-f567-4407-90b2-435e4b9017f1",
      "metadata": {
        "id": "39d6b35d-f567-4407-90b2-435e4b9017f1"
      },
      "outputs": [],
      "source": [
        "# Print the first 12 imagesabs\n",
        "im = make_grid(images[:12], nrow=12)  # the dafault nrow is 8"
      ]
    },
    {
      "cell_type": "code",
      "execution_count": null,
      "id": "c1df56e3-0ff7-4593-85ca-6240b147037c",
      "metadata": {
        "id": "c1df56e3-0ff7-4593-85ca-6240b147037c",
        "outputId": "72079de1-e125-49cf-eddd-6719ca6efc1b"
      },
      "outputs": [
        {
          "data": {
            "image/png": "[encoded data removed]",
            "text/plain": [
              "<Figure size 640x480 with 1 Axes>"
            ]
          },
          "metadata": {},
          "output_type": "display_data"
        }
      ],
      "source": [
        "plt.imshow(np.transpose(im.numpy(),(1,2,0)));\n",
        "plt.show()"
      ]
    },
    {
      "cell_type": "code",
      "execution_count": null,
      "id": "a5adcb5f-fe00-496e-b332-18ee9fab1fd1",
      "metadata": {
        "id": "a5adcb5f-fe00-496e-b332-18ee9fab1fd1"
      },
      "outputs": [],
      "source": [
        "class MultilayerPerceptron(nn.Module):\n",
        "    def __init__(self, in_sz=784, out_sz=10, layers=[120,84]):\n",
        "        super().__init__()\n",
        "        self.fc1 = nn.Linear(in_sz,layers[0])\n",
        "        self.fc2 = nn.Linear(layers[0],layers[1])\n",
        "        self.fc3 = nn.Linear(layers[1],out_sz)\n",
        "\n",
        "    def forward(self,X):\n",
        "        X = F.relu(self.fc1(X))\n",
        "        X = F.relu(self.fc2(X))\n",
        "        X = self.fc3(X)\n",
        "        return F.log_softmax(X, dim=1)  # Multi class classification"
      ]
    },
    {
      "cell_type": "code",
      "execution_count": null,
      "id": "9e5592db-47a0-4dd3-8233-7fa1848a2cdb",
      "metadata": {
        "id": "9e5592db-47a0-4dd3-8233-7fa1848a2cdb",
        "outputId": "85e5e927-2c0a-41e5-af8c-8e129ea954b5"
      },
      "outputs": [
        {
          "data": {
            "text/plain": [
              "MultilayerPerceptron(\n",
              "  (fc1): Linear(in_features=784, out_features=120, bias=True)\n",
              "  (fc2): Linear(in_features=120, out_features=84, bias=True)\n",
              "  (fc3): Linear(in_features=84, out_features=10, bias=True)\n",
              ")"
            ]
          },
          "execution_count": 23,
          "metadata": {},
          "output_type": "execute_result"
        }
      ],
      "source": [
        "torch.manual_seed(101)\n",
        "model = MultilayerPerceptron()\n",
        "model"
      ]
    },
    {
      "cell_type": "code",
      "execution_count": null,
      "id": "82142c16-a172-452c-b445-9b989a8aad95",
      "metadata": {
        "id": "82142c16-a172-452c-b445-9b989a8aad95",
        "outputId": "668c59fc-acd8-49b8-d211-4b8ae4b7b081"
      },
      "outputs": [
        {
          "name": "stdout",
          "output_type": "stream",
          "text": [
            "94080\n",
            "120\n",
            "10080\n",
            "84\n",
            "840\n",
            "10\n"
          ]
        }
      ],
      "source": [
        "# ANN ----> CNN\n",
        "for param in model.parameters():\n",
        "    print(param.numel())"
      ]
    },
    {
      "cell_type": "code",
      "execution_count": null,
      "id": "02177914-fd16-4ea9-ae8e-fce3194463ca",
      "metadata": {
        "id": "02177914-fd16-4ea9-ae8e-fce3194463ca"
      },
      "outputs": [],
      "source": [
        "# 105,214 total parameter"
      ]
    },
    {
      "cell_type": "code",
      "execution_count": null,
      "id": "ada31ac0-19e9-4f7d-8a05-eff6fcf96d01",
      "metadata": {
        "id": "ada31ac0-19e9-4f7d-8a05-eff6fcf96d01"
      },
      "outputs": [],
      "source": [
        "criterion = nn.CrossEntropyLoss()\n",
        "optimizer = torch.optim.Adam(model.parameters(),lr=0.001)"
      ]
    },
    {
      "cell_type": "code",
      "execution_count": null,
      "id": "5818e7a0-6939-445c-badc-1d723029c2f1",
      "metadata": {
        "id": "5818e7a0-6939-445c-badc-1d723029c2f1",
        "outputId": "1f3378f7-956a-47d3-fd3a-85d5ff5c4ee6"
      },
      "outputs": [
        {
          "data": {
            "text/plain": [
              "torch.Size([100, 1, 28, 28])"
            ]
          },
          "execution_count": 27,
          "metadata": {},
          "output_type": "execute_result"
        }
      ],
      "source": [
        "images.shape  # ----> [100,784]"
      ]
    },
    {
      "cell_type": "code",
      "execution_count": null,
      "id": "b1ac9b8b-bb0c-47cd-8d65-6022e38a7d6e",
      "metadata": {
        "id": "b1ac9b8b-bb0c-47cd-8d65-6022e38a7d6e",
        "outputId": "64a44dc6-b47a-4dcd-dfdb-c0757b4f581e"
      },
      "outputs": [
        {
          "data": {
            "text/plain": [
              "tensor([[0., 0., 0.,  ..., 0., 0., 0.],\n",
              "        [0., 0., 0.,  ..., 0., 0., 0.],\n",
              "        [0., 0., 0.,  ..., 0., 0., 0.],\n",
              "        ...,\n",
              "        [0., 0., 0.,  ..., 0., 0., 0.],\n",
              "        [0., 0., 0.,  ..., 0., 0., 0.],\n",
              "        [0., 0., 0.,  ..., 0., 0., 0.]])"
            ]
          },
          "execution_count": 28,
          "metadata": {},
          "output_type": "execute_result"
        }
      ],
      "source": [
        "images.view(100,-1)"
      ]
    },
    {
      "cell_type": "code",
      "execution_count": null,
      "id": "35a7d254-93af-474d-a27b-ba739bc22ebc",
      "metadata": {
        "id": "35a7d254-93af-474d-a27b-ba739bc22ebc",
        "outputId": "bbf27c91-2ef7-4399-f4e7-8a56abb08149"
      },
      "outputs": [
        {
          "data": {
            "text/plain": [
              "torch.Size([100, 784])"
            ]
          },
          "execution_count": 29,
          "metadata": {},
          "output_type": "execute_result"
        }
      ],
      "source": [
        "images.view(100,-1).shape    # Flattening is essential for passing image data into fully connected layers"
      ]
    },
    {
      "cell_type": "code",
      "execution_count": null,
      "id": "dcfc640a-adbb-4c88-8b68-45339634a74b",
      "metadata": {
        "id": "dcfc640a-adbb-4c88-8b68-45339634a74b"
      },
      "outputs": [],
      "source": [
        "#setup the training & evaluvation"
      ]
    },
    {
      "cell_type": "code",
      "execution_count": null,
      "id": "f2531998-1866-4baa-a240-2f41e5607374",
      "metadata": {
        "id": "f2531998-1866-4baa-a240-2f41e5607374",
        "outputId": "8b08e85b-6085-4f1f-e5eb-a4200575645c"
      },
      "outputs": [
        {
          "name": "stdout",
          "output_type": "stream",
          "text": [
            "Epoch0  batch 200   loss: 0.2356237769126892  accuracy:83.245\n",
            "Epoch0  batch 400   loss: 0.3533071279525757  accuracy:87.5325\n",
            "Epoch0  batch 600   loss: 0.13765765726566315  accuracy:89.58166666666666\n",
            "Epoch1  batch 200   loss: 0.2450992614030838  accuracy:94.88\n",
            "Epoch1  batch 400   loss: 0.139908567070961  accuracy:95.1075\n",
            "Epoch1  batch 600   loss: 0.07150521874427795  accuracy:95.37666666666667\n",
            "Epoch2  batch 200   loss: 0.08816862106323242  accuracy:96.565\n",
            "Epoch2  batch 400   loss: 0.06208188831806183  accuracy:96.66\n",
            "Epoch2  batch 600   loss: 0.07086564600467682  accuracy:96.72166666666666\n",
            "Epoch3  batch 200   loss: 0.11753450334072113  accuracy:97.63\n",
            "Epoch3  batch 400   loss: 0.055651258677244186  accuracy:97.4825\n",
            "Epoch3  batch 600   loss: 0.0344504714012146  accuracy:97.52333333333333\n",
            "Epoch4  batch 200   loss: 0.10662715137004852  accuracy:98.165\n",
            "Epoch4  batch 400   loss: 0.04711269214749336  accuracy:97.995\n",
            "Epoch4  batch 600   loss: 0.054924558848142624  accuracy:98.01666666666667\n",
            "Epoch5  batch 200   loss: 0.009507461450994015  accuracy:98.44\n",
            "Epoch5  batch 400   loss: 0.03661220148205757  accuracy:98.505\n",
            "Epoch5  batch 600   loss: 0.057259634137153625  accuracy:98.395\n",
            "Epoch6  batch 200   loss: 0.031195903196930885  accuracy:98.845\n",
            "Epoch6  batch 400   loss: 0.06201673671603203  accuracy:98.69\n",
            "Epoch6  batch 600   loss: 0.08318546414375305  accuracy:98.67\n",
            "Epoch7  batch 200   loss: 0.06914353370666504  accuracy:99.16\n",
            "Epoch7  batch 400   loss: 0.07898400723934174  accuracy:98.9475\n",
            "Epoch7  batch 600   loss: 0.04138811677694321  accuracy:98.88833333333334\n",
            "Epoch8  batch 200   loss: 0.005578312091529369  accuracy:99.26\n",
            "Epoch8  batch 400   loss: 0.006579724606126547  accuracy:99.1425\n",
            "Epoch8  batch 600   loss: 0.09109019488096237  accuracy:99.105\n",
            "Epoch9  batch 200   loss: 0.008466478437185287  accuracy:99.405\n",
            "Epoch9  batch 400   loss: 0.011405331082642078  accuracy:99.305\n",
            "Epoch9  batch 600   loss: 0.023204762488603592  accuracy:99.295\n",
            "Durations: 0.20070635080337523 mins\n"
          ]
        }
      ],
      "source": [
        "import time\n",
        "start_time = time.time()\n",
        "\n",
        "# Training\n",
        "\n",
        "epochs = 10\n",
        "\n",
        "# Trackers\n",
        "train_losses = []\n",
        "test_losses = []\n",
        "train_correct = []\n",
        "test_correct = []\n",
        "\n",
        "\n",
        "\n",
        "\n",
        "\n",
        "for i in range(epochs):\n",
        "\n",
        "    trn_corr = 0\n",
        "    tst_corr = 0\n",
        "\n",
        "    for b,(X_train,y_train) in enumerate(train_loader):\n",
        "\n",
        "        b+=1\n",
        "\n",
        "        y_pred = model(X_train.view(100,-1))\n",
        "        loss = criterion(y_pred,y_train)\n",
        "\n",
        "\n",
        "        # 10 Neurons\n",
        "        # [0.1, 0.0, .... 0.8]\n",
        "        predicted = torch.max(y_pred.data,1)[1]   # print(y_pred.data)\n",
        "        batch_corr = (predicted == y_train).sum()\n",
        "        trn_corr += batch_corr\n",
        "\n",
        "        optimizer.zero_grad()\n",
        "        loss.backward()\n",
        "        optimizer.step()\n",
        "\n",
        "        if b%200 == 0:\n",
        "\n",
        "            acc = trn_corr.item()*100/(100*b)\n",
        "            print(f'Epoch{i}  batch {b}   loss: {loss.item()}  accuracy:{acc}')\n",
        "\n",
        "\n",
        "    train_losses.append(loss)\n",
        "    train_correct.append(trn_corr)\n",
        "\n",
        "    with torch.no_grad():\n",
        "        for b, (X_test,y_test) in enumerate(test_loader):\n",
        "            y_val = model(X_test.view(500,-1))\n",
        "            predicted = torch.max(y_val.data,1)[1]\n",
        "            tst_corr += (predicted ==y_test).sum()\n",
        "\n",
        "    loss = criterion(y_val,y_test)\n",
        "    test_losses.append(loss)\n",
        "    test_correct.append(tst_corr)\n",
        "\n",
        "\n",
        "\n",
        "\n",
        "\n",
        "\n",
        "total_time = time.time() - start_time\n",
        "print(f'Durations: {total_time/60} mins')"
      ]
    },
    {
      "cell_type": "code",
      "execution_count": null,
      "id": "1e79e2fc-7be2-470a-96ff-a3be40feea02",
      "metadata": {
        "id": "1e79e2fc-7be2-470a-96ff-a3be40feea02",
        "outputId": "17b226ad-ce3e-443b-ec5e-7e769cbc3280"
      },
      "outputs": [
        {
          "data": {
            "image/png": "[encoded data removed]",
            "text/plain": [
              "<Figure size 640x480 with 1 Axes>"
            ]
          },
          "metadata": {},
          "output_type": "display_data"
        }
      ],
      "source": [
        "#train_losses_np = [loss.detach().cpu().numpy() for loss in train_losses]\n",
        "\n",
        "train_losses_np = [loss.detach().numpy() for loss in train_losses]\n",
        "\n",
        "plt.plot(train_losses_np, label='Training loss')\n",
        "plt.legend()\n",
        "plt.show()"
      ]
    },
    {
      "cell_type": "code",
      "execution_count": null,
      "id": "7c7fd9e6-823b-4a04-9c3a-024c1f70bb7b",
      "metadata": {
        "id": "7c7fd9e6-823b-4a04-9c3a-024c1f70bb7b",
        "outputId": "8c1b2074-fc02-457f-cdee-1491bf70ae42"
      },
      "outputs": [
        {
          "data": {
            "image/png": "[encoded data removed]",
            "text/plain": [
              "<Figure size 640x480 with 1 Axes>"
            ]
          },
          "metadata": {},
          "output_type": "display_data"
        }
      ],
      "source": [
        "# compare with test lloss\n",
        "\n",
        "train_losses_np = [loss.detach().numpy() for loss in train_losses]\n",
        "test_losses_np = [loss.detach().numpy() for loss in test_losses]\n",
        "plt.plot(train_losses_np, label='Training loss')\n",
        "plt.plot(test_losses_np, label='Validation Loss')\n",
        "plt.legend()\n",
        "plt.show()"
      ]
    },
    {
      "cell_type": "code",
      "execution_count": null,
      "id": "5d31e188-d31a-4104-92e5-ae631298830a",
      "metadata": {
        "id": "5d31e188-d31a-4104-92e5-ae631298830a",
        "outputId": "738bc8a5-ffa9-4e97-cd18-2f5144e7c2ab"
      },
      "outputs": [
        {
          "data": {
            "text/plain": [
              "[tensor(53749),\n",
              " tensor(57226),\n",
              " tensor(58033),\n",
              " tensor(58514),\n",
              " tensor(58810),\n",
              " tensor(59037),\n",
              " tensor(59202),\n",
              " tensor(59333),\n",
              " tensor(59463),\n",
              " tensor(59577)]"
            ]
          },
          "execution_count": 35,
          "metadata": {},
          "output_type": "execute_result"
        }
      ],
      "source": [
        "train_correct"
      ]
    },
    {
      "cell_type": "code",
      "execution_count": null,
      "id": "84a04efd-2d89-4740-8270-b69727de0449",
      "metadata": {
        "id": "84a04efd-2d89-4740-8270-b69727de0449",
        "outputId": "44f003b5-517a-4fa1-824b-e64ab591adc3"
      },
      "outputs": [
        {
          "data": {
            "text/plain": [
              "[tensor(53749),\n",
              " tensor(57226),\n",
              " tensor(58033),\n",
              " tensor(58514),\n",
              " tensor(58810),\n",
              " tensor(59037),\n",
              " tensor(59202),\n",
              " tensor(59333),\n",
              " tensor(59463),\n",
              " tensor(59577)]"
            ]
          },
          "execution_count": 36,
          "metadata": {},
          "output_type": "execute_result"
        }
      ],
      "source": [
        "train_correct"
      ]
    },
    {
      "cell_type": "code",
      "execution_count": null,
      "id": "4a7d0c54-60ed-4548-a896-5fa20b3d0a3f",
      "metadata": {
        "id": "4a7d0c54-60ed-4548-a896-5fa20b3d0a3f",
        "outputId": "59cc175f-126f-495e-ea3c-088f72105df2"
      },
      "outputs": [
        {
          "data": {
            "text/plain": [
              "tensor(89.5817)"
            ]
          },
          "execution_count": 37,
          "metadata": {},
          "output_type": "execute_result"
        }
      ],
      "source": [
        "train_correct[0]/600"
      ]
    },
    {
      "cell_type": "code",
      "execution_count": null,
      "id": "e847a853-05e5-4e80-8085-dbc23989fa38",
      "metadata": {
        "id": "e847a853-05e5-4e80-8085-dbc23989fa38"
      },
      "outputs": [],
      "source": [
        "train_acc = [t/600 for t in train_correct]"
      ]
    },
    {
      "cell_type": "code",
      "execution_count": null,
      "id": "b45d6fe7-dd52-498d-ba5c-47df8e54f6db",
      "metadata": {
        "id": "b45d6fe7-dd52-498d-ba5c-47df8e54f6db",
        "outputId": "8538088e-60bd-44ee-d7ca-85e76c56b51e"
      },
      "outputs": [
        {
          "data": {
            "text/plain": [
              "[tensor(89.5817),\n",
              " tensor(95.3767),\n",
              " tensor(96.7217),\n",
              " tensor(97.5233),\n",
              " tensor(98.0167),\n",
              " tensor(98.3950),\n",
              " tensor(98.6700),\n",
              " tensor(98.8883),\n",
              " tensor(99.1050),\n",
              " tensor(99.2950)]"
            ]
          },
          "execution_count": 39,
          "metadata": {},
          "output_type": "execute_result"
        }
      ],
      "source": [
        "train_acc"
      ]
    },
    {
      "cell_type": "code",
      "execution_count": null,
      "id": "4d4eaae5-09d7-4aee-a838-4fe7b0f841b7",
      "metadata": {
        "id": "4d4eaae5-09d7-4aee-a838-4fe7b0f841b7"
      },
      "outputs": [],
      "source": [
        "test_acc = [t/100 for t in test_correct]"
      ]
    },
    {
      "cell_type": "code",
      "execution_count": null,
      "id": "e092cd51-49bd-43a0-805b-16de0f17eff5",
      "metadata": {
        "id": "e092cd51-49bd-43a0-805b-16de0f17eff5",
        "outputId": "5dae7d68-e847-4ad9-9d1f-99307c03f899"
      },
      "outputs": [
        {
          "data": {
            "text/plain": [
              "[tensor(94.3700),\n",
              " tensor(95.7900),\n",
              " tensor(96.9300),\n",
              " tensor(97.0900),\n",
              " tensor(97.4600),\n",
              " tensor(97.6000),\n",
              " tensor(97.7400),\n",
              " tensor(97.5500),\n",
              " tensor(97.5800),\n",
              " tensor(97.8200)]"
            ]
          },
          "execution_count": 41,
          "metadata": {},
          "output_type": "execute_result"
        }
      ],
      "source": [
        "test_acc"
      ]
    },
    {
      "cell_type": "code",
      "execution_count": null,
      "id": "b866d3c0-6f03-48f9-81a3-2ff925a1f7cb",
      "metadata": {
        "id": "b866d3c0-6f03-48f9-81a3-2ff925a1f7cb",
        "outputId": "0ba905de-82b7-4044-9c2a-87e94e0accc6"
      },
      "outputs": [
        {
          "data": {
            "image/png": "[encoded data removed]",
            "text/plain": [
              "<Figure size 640x480 with 1 Axes>"
            ]
          },
          "metadata": {},
          "output_type": "display_data"
        }
      ],
      "source": [
        "plt.plot(train_acc,label='train acc')\n",
        "plt.plot(test_acc,label='test acc')\n",
        "plt.legend()\n",
        "plt.show()"
      ]
    },
    {
      "cell_type": "code",
      "execution_count": null,
      "id": "c9968a7d-eeb9-4e25-90e3-cf33c0a4967f",
      "metadata": {
        "id": "c9968a7d-eeb9-4e25-90e3-cf33c0a4967f"
      },
      "outputs": [],
      "source": [
        "# new unseen dDataLoader\n",
        "\n",
        "test_load_all = DataLoader(test_data, batch_size=10000, shuffle=False)"
      ]
    },
    {
      "cell_type": "code",
      "execution_count": null,
      "id": "16925b39-dd85-46cd-bd7e-7f4d5bcf3110",
      "metadata": {
        "id": "16925b39-dd85-46cd-bd7e-7f4d5bcf3110"
      },
      "outputs": [],
      "source": [
        "with torch.no_grad():\n",
        "    correct = 0\n",
        "\n",
        "    for X_test, y_test in test_load_all:\n",
        "        y_val = model(X_test.view(len(X_test), -1))  # pass in a flattened view of X_test\n",
        "        predicted = torch.max(y_val,1)[1]\n",
        "        correct += (predicted == y_test).sum()"
      ]
    },
    {
      "cell_type": "code",
      "execution_count": null,
      "id": "9054b74c-1357-40a3-9d02-7ffcdc403102",
      "metadata": {
        "id": "9054b74c-1357-40a3-9d02-7ffcdc403102",
        "outputId": "dd87ad46-5085-432e-bd05-7cd00f679e0b"
      },
      "outputs": [
        {
          "data": {
            "text/plain": [
              "97.82"
            ]
          },
          "execution_count": 45,
          "metadata": {},
          "output_type": "execute_result"
        }
      ],
      "source": [
        "100*correct.item()/len(test_data)"
      ]
    },
    {
      "cell_type": "code",
      "execution_count": null,
      "id": "46a5bc41-ef4e-4d10-b675-976d9488fa5b",
      "metadata": {
        "id": "46a5bc41-ef4e-4d10-b675-976d9488fa5b",
        "outputId": "873f6f36-9911-426a-80da-16a73e680219"
      },
      "outputs": [
        {
          "data": {
            "text/plain": [
              "array([[ 970,    0,    5,    0,    1,    2,    5,    2,    3,    1],\n",
              "       [   0, 1125,    3,    0,    0,    0,    3,    7,    0,    3],\n",
              "       [   1,    3, 1002,    1,    1,    0,    2,    8,    4,    0],\n",
              "       [   3,    2,    4,  989,    0,   10,    1,    2,    3,    2],\n",
              "       [   0,    0,    3,    0,  968,    3,    1,    2,    2,    9],\n",
              "       [   0,    0,    0,    6,    0,  865,    5,    1,    3,    4],\n",
              "       [   1,    1,    3,    0,    5,    2,  940,    0,    1,    0],\n",
              "       [   1,    0,    3,    4,    0,    1,    0,  985,    2,    0],\n",
              "       [   3,    4,    9,    3,    1,    7,    1,    2,  951,    3],\n",
              "       [   1,    0,    0,    7,    6,    2,    0,   19,    5,  987]])"
            ]
          },
          "execution_count": 46,
          "metadata": {},
          "output_type": "execute_result"
        }
      ],
      "source": [
        "confusion_matrix(predicted.view(-1), y_test.view(-1))"
      ]
    },
    {
      "cell_type": "markdown",
      "source": [
        "- Pradeep E\n",
        "- 212223230149\n",
        "- B.Tech AI&DS"
      ],
      "metadata": {
        "id": "aFNJgYv85S5C"
      },
      "id": "aFNJgYv85S5C"
    }
  ],
  "metadata": {
    "kernelspec": {
      "display_name": "Python 3 (ipykernel)",
      "language": "python",
      "name": "python3"
    },
    "language_info": {
      "codemirror_mode": {
        "name": "ipython",
        "version": 3
      },
      "file_extension": ".py",
      "mimetype": "text/x-python",
      "name": "python",
      "nbconvert_exporter": "python",
      "pygments_lexer": "ipython3",
      "version": "3.12.2"
    },
    "colab": {
      "provenance": []
    }
  },
  "nbformat": 4,
  "nbformat_minor": 5
}